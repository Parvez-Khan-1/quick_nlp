{
 "cells": [
  {
   "cell_type": "markdown",
   "metadata": {},
   "source": [
    "# Model Evaluation"
   ]
  },
  {
   "cell_type": "markdown",
   "metadata": {},
   "source": [
    "### 1. Classifier Evaluation Using Confusion Matrix"
   ]
  },
  {
   "cell_type": "markdown",
   "metadata": {},
   "source": [
    "<I> A confusion matrix is a table that is often used to describe the performance of a classification model (or \"classifier\") on a set of test data for which the true values are known. </I>\n",
    "\n",
    "<B> Basic terms in confusion matrix </B>:\n",
    "\n",
    "- <b>True Positive (TP)</b>: These are cases in which model predicted `YES` and its Actual value is also `YES`\n",
    "- <b>True Negative (TN)</b>: Model predicted `NO` and its Actual Value is also `No`\n",
    "- <b>False Positive (FP)</b>: Model predicted `YES`, and the actual value is `NO` (Also known as a \"Type I error.\")\n",
    "- <b>False Negative (FN)</b>: Model predicted `NO`, and actual value is `YES`  (Also known as a \"Type II error.\")\n"
   ]
  },
  {
   "cell_type": "markdown",
   "metadata": {},
   "source": [
    "### Implementation"
   ]
  },
  {
   "cell_type": "code",
   "execution_count": 12,
   "metadata": {},
   "outputs": [],
   "source": [
    "# Example of a confusion matrix in Python\n",
    "from sklearn.metrics import confusion_matrix"
   ]
  },
  {
   "cell_type": "code",
   "execution_count": 13,
   "metadata": {},
   "outputs": [],
   "source": [
    "actual  = [1, 1, 0, 1, 0, 0, 1, 0, 0, 0]\n",
    "predicted = [1, 0, 0, 1, 0, 0, 1, 1, 1, 0]"
   ]
  },
  {
   "cell_type": "code",
   "execution_count": 14,
   "metadata": {},
   "outputs": [
    {
     "data": {
      "text/plain": [
       "array([[4, 2],\n",
       "       [1, 3]], dtype=int64)"
      ]
     },
     "execution_count": 14,
     "metadata": {},
     "output_type": "execute_result"
    }
   ],
   "source": [
    "results = confusion_matrix(actual, predicted)\n",
    "results"
   ]
  },
  {
   "cell_type": "markdown",
   "metadata": {},
   "source": [
    "### Calculate different rates from Confusion Matrix \n",
    "\n",
    "- <b>Accuracy</b>: Overall, how often is the classifier correct?\n",
    "                = (TP+TN)/total\n",
    "        \n",
    "- <b>Misclassification Rate (Error Rate)</b>: Overall, how often is it wrong?\n",
    "                = (FP+FN)/total\n",
    "                \n",
    "- <b> True Positive Rate (`Sensitivity` or `Recall`)</b>: When it's actually yes, how often does it predict yes?\n",
    "                = TP/actual_yes\n",
    "- <b> False Positive Rate </b>: When it's actually no, how often does it predict yes?\n",
    "                = FP/actual_no\n",
    "- <b> True Negative Rate (`Specificity`) </b>: When it's actually no, how often does it predict no?\n",
    "                = TN/actual_no\n",
    "- <b> Precision </b>: When it predicts yes, how often is it correct?\n",
    "                = TP/predicted_yes\n"
   ]
  },
  {
   "cell_type": "code",
   "execution_count": 15,
   "metadata": {},
   "outputs": [],
   "source": [
    "from sklearn.metrics import classification_report"
   ]
  },
  {
   "cell_type": "code",
   "execution_count": 18,
   "metadata": {},
   "outputs": [
    {
     "name": "stdout",
     "output_type": "stream",
     "text": [
      "              precision    recall  f1-score   support\n",
      "\n",
      "         Yes       0.80      0.67      0.73         6\n",
      "          No       0.60      0.75      0.67         4\n",
      "\n",
      "   micro avg       0.70      0.70      0.70        10\n",
      "   macro avg       0.70      0.71      0.70        10\n",
      "weighted avg       0.72      0.70      0.70        10\n",
      "\n"
     ]
    }
   ],
   "source": [
    "print(classification_report(actual, predicted, target_names=['Yes', 'No']))"
   ]
  },
  {
   "cell_type": "code",
   "execution_count": null,
   "metadata": {},
   "outputs": [],
   "source": []
  }
 ],
 "metadata": {
  "kernelspec": {
   "display_name": "Python 3",
   "language": "python",
   "name": "python3"
  },
  "language_info": {
   "codemirror_mode": {
    "name": "ipython",
    "version": 3
   },
   "file_extension": ".py",
   "mimetype": "text/x-python",
   "name": "python",
   "nbconvert_exporter": "python",
   "pygments_lexer": "ipython3",
   "version": "3.7.1"
  }
 },
 "nbformat": 4,
 "nbformat_minor": 2
}
